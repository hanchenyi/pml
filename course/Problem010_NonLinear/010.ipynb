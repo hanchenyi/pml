{
  "nbformat": 4,
  "nbformat_minor": 0,
  "metadata": {
    "kernelspec": {
      "display_name": "Python 3",
      "language": "python",
      "name": "python3"
    },
    "language_info": {
      "codemirror_mode": {
        "name": "ipython",
        "version": 3
      },
      "file_extension": ".py",
      "mimetype": "text/x-python",
      "name": "python",
      "nbconvert_exporter": "python",
      "pygments_lexer": "ipython3",
      "version": "3.8.2-final"
    },
    "colab": {
      "name": "010.ipynb",
      "provenance": []
    }
  },
  "cells": [
    {
      "cell_type": "markdown",
      "metadata": {
        "scrolled": true,
        "id": "NpiQ3FeqVBcn"
      },
      "source": [
        "## Non Linear functions\n",
        "$\n",
        "sigmoid(x)={\\frac {1}{1+e^{-x}}}\n",
        "$\n",
        "\n",
        "$\n",
        "tanh(x)={\\frac {e^{x} - e^{-x}}{e^{x}+e^{-x}}}\n",
        "$\n",
        "\n",
        "$\n",
        "ReLU(x) = \\left\\{\n",
        "        \\begin{array}{lll}\n",
        "            0 & for & x \\leq 0  \\\\\n",
        "            x & for & x > 0\n",
        "        \\end{array}\n",
        "    \\right.\n",
        "$\n",
        "\n"
      ]
    },
    {
      "cell_type": "code",
      "metadata": {
        "id": "7FSQGltYVBco",
        "outputId": "c5a6930a-65f9-4e99-d52f-916c586d1850",
        "colab": {
          "base_uri": "https://localhost:8080/",
          "height": 761
        }
      },
      "source": [
        "#TBD implement following non-linear functions\n",
        "\n",
        "def sigmoid(x):\n",
        "    return 1/(1+np.exp(-x))\n",
        "\n",
        "def tanh(x):\n",
        "    return (np.exp(x)-np.exp(-x))/(np.exp(x)+np.exp(-x))\n",
        "\n",
        "def relu(x):\n",
        "  def relu_map(t):\n",
        "    if (t <= 0):\n",
        "      return 0\n",
        "    else:\n",
        "      return t\n",
        "  func = np.vectorize(relu_map)\n",
        "  return func(x)\n",
        "    \n",
        "\n",
        "import matplotlib.pyplot as plt\n",
        "import numpy as np\n",
        "def draw(f):\n",
        "  fig = plt.figure()\n",
        "  fig.add_subplot(1,1,1)\n",
        "  X = np.linspace(-100,100)\n",
        "  Y = f(X)\n",
        "  plt.plot(X,Y)\n",
        "\n",
        "draw(sigmoid)\n",
        "draw(tanh)\n",
        "draw(relu)"
      ],
      "execution_count": 14,
      "outputs": [
        {
          "output_type": "display_data",
          "data": {
            "image/png": "[encoded data removed]",
            "text/plain": [
              "<Figure size 432x288 with 1 Axes>"
            ]
          },
          "metadata": {
            "tags": [],
            "needs_background": "light"
          }
        },
        {
          "output_type": "display_data",
          "data": {
            "image/png": "[encoded data removed]",
            "text/plain": [
              "<Figure size 432x288 with 1 Axes>"
            ]
          },
          "metadata": {
            "tags": [],
            "needs_background": "light"
          }
        },
        {
          "output_type": "display_data",
          "data": {
            "image/png": "[encoded data removed]",
            "text/plain": [
              "<Figure size 432x288 with 1 Axes>"
            ]
          },
          "metadata": {
            "tags": [],
            "needs_background": "light"
          }
        }
      ]
    },
    {
      "cell_type": "code",
      "metadata": {
        "id": "5o885j7jVBcr"
      },
      "source": [
        "#TBD plot above non-linear functions"
      ],
      "execution_count": null,
      "outputs": []
    }
  ]
}