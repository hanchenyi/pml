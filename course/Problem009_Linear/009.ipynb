{
  "nbformat": 4,
  "nbformat_minor": 0,
  "metadata": {
    "kernelspec": {
      "display_name": "Python 3",
      "language": "python",
      "name": "python3"
    },
    "language_info": {
      "codemirror_mode": {
        "name": "ipython",
        "version": 3
      },
      "file_extension": ".py",
      "mimetype": "text/x-python",
      "name": "python",
      "nbconvert_exporter": "python",
      "pygments_lexer": "ipython3",
      "version": "3.8.2-final"
    },
    "colab": {
      "name": "009.ipynb",
      "provenance": []
    }
  },
  "cells": [
    {
      "cell_type": "markdown",
      "metadata": {
        "id": "IafMUWzDNNWI"
      },
      "source": [
        "## What does linear model do\n"
      ]
    },
    {
      "cell_type": "markdown",
      "metadata": {
        "id": "Iey7EKmlNNWJ"
      },
      "source": [
        "## 1-dimensional input (feature)"
      ]
    },
    {
      "cell_type": "code",
      "metadata": {
        "scrolled": true,
        "id": "DvD6DPipNNWJ"
      },
      "source": [
        "import numpy as np\n",
        "from sklearn import linear_model\n",
        "X_train = np.array([[1],[2],[3],[4]])\n",
        "Y_train = np.array([1,2,3,4])\n",
        "\n",
        "#TBD fit linear model and predict for x=7\n"
      ],
      "execution_count": 1,
      "outputs": []
    },
    {
      "cell_type": "code",
      "metadata": {
        "id": "XvMwpzgjNNWN"
      },
      "source": [
        "X_train = np.array([[1],[2],[3],[4]])\n",
        "Y_train = np.array([3,4,5,6])\n",
        "\n",
        "#TBD fit linear model and predict for x=7"
      ],
      "execution_count": null,
      "outputs": []
    },
    {
      "cell_type": "code",
      "metadata": {
        "id": "AhqpOGT9NNWP"
      },
      "source": [
        "X_train = np.array([[0],[0.1],[2],[2.1],[4],[4.1]])\n",
        "Y_train = np.array([0,2,1,3,2,4])\n",
        "\n",
        "#TBD fit linear model and predict for x=4\n"
      ],
      "execution_count": null,
      "outputs": []
    },
    {
      "cell_type": "code",
      "metadata": {
        "id": "7dmTwtw6NNWS"
      },
      "source": [
        "#TBD Plot above 3 models"
      ],
      "execution_count": null,
      "outputs": []
    },
    {
      "cell_type": "markdown",
      "metadata": {
        "id": "uE5qoLcqNNWU"
      },
      "source": [
        "## 2 dimensional input (features)"
      ]
    },
    {
      "cell_type": "code",
      "metadata": {
        "id": "_nIgbvukNNWU"
      },
      "source": [
        "from random import random, seed\n",
        "\n",
        "n = 50\n",
        "seed(1)                                     \n",
        "X_train = [[random(), random()] for i in range(n)]              \n",
        "Y_train = [random() for i in range(n)]\n",
        "\n",
        "#TBD fit linear model and predict for x=(7,8)"
      ],
      "execution_count": null,
      "outputs": []
    },
    {
      "cell_type": "code",
      "metadata": {
        "id": "j_rmjTr-NNWX"
      },
      "source": [
        "#Plot above model"
      ],
      "execution_count": null,
      "outputs": []
    },
    {
      "cell_type": "markdown",
      "metadata": {
        "id": "_TFhx0WnNNWa"
      },
      "source": [
        "## 13 dimensional input (features)"
      ]
    },
    {
      "cell_type": "code",
      "metadata": {
        "id": "1rjs4tMiNNWb"
      },
      "source": [
        "#TBD Load boston dataset\n",
        "from sklearn.datasets import load_boston\n",
        "from sklearn.model_selection import train_test_split\n",
        "house_data = load_boston()\n",
        "X = house_data.data\n",
        "Y = house_data.target"
      ],
      "execution_count": 24,
      "outputs": []
    },
    {
      "cell_type": "code",
      "metadata": {
        "id": "Vmp3ZcQ8NNWd"
      },
      "source": [
        "#TBD Split into Train and Test dataset. random 90% 10%\n",
        "X_train, X_test, Y_train, Y_test = train_test_split(X,Y, test_size = 0.1, random_state=101)"
      ],
      "execution_count": 17,
      "outputs": []
    },
    {
      "cell_type": "code",
      "metadata": {
        "id": "0pJJe5QqNNWh",
        "outputId": "2d6620ee-6ae2-42bd-aafd-124e8a630e9b",
        "colab": {
          "base_uri": "https://localhost:8080/"
        }
      },
      "source": [
        "#TBD Fit linear model on Training data\n",
        "from sklearn import linear_model\n",
        "import numpy as py\n",
        "model = linear_model.LinearRegression()\n",
        "reg = model.fit(X_train, Y_train)\n",
        "print(reg.coef_)"
      ],
      "execution_count": 19,
      "outputs": [
        {
          "output_type": "stream",
          "text": [
            "[-1.13476349e-01  4.64006242e-02  1.95871074e-02  1.96846927e+00\n",
            " -1.78004958e+01  3.51910410e+00  2.48736169e-03 -1.53554738e+00\n",
            "  2.86000300e-01 -1.20098899e-02 -9.57342683e-01  9.41196642e-03\n",
            " -5.26703375e-01]\n"
          ],
          "name": "stdout"
        }
      ]
    },
    {
      "cell_type": "code",
      "metadata": {
        "id": "6PgxD2oqNNWj",
        "outputId": "ca6b781a-3d6b-41fa-e1e4-1b6590bc1cfc",
        "colab": {
          "base_uri": "https://localhost:8080/"
        }
      },
      "source": [
        "#TBD Predict for Test data\n",
        "Y_predict = model.predict(X_test)\n",
        "Y_predict"
      ],
      "execution_count": 27,
      "outputs": [
        {
          "output_type": "execute_result",
          "data": {
            "text/plain": [
              "array([40.20530492, 27.51362318, 15.67522143, 16.86884909, 31.08213911,\n",
              "       32.76882583, 39.09283168,  8.82466039, 33.22474638,  7.15792564,\n",
              "       30.11246988, 14.08346066, 16.30536945, 16.51386167, 25.2743359 ,\n",
              "       19.97857709,  6.81246324, 33.08490121, 28.54069899, 24.72212978,\n",
              "       13.00999685, 20.82768406, 22.52808302, 24.24156098, 33.96827004,\n",
              "       18.7024587 , 30.77145225, 19.04446452, 25.21793606, 34.21543709,\n",
              "       19.67471556, 18.52520081, 36.96201748, 43.31834725, 31.0933504 ,\n",
              "       22.67324952, 15.45429133, 18.10174792,  4.63307946, 30.99203249,\n",
              "       24.4731204 , 16.18207125, 34.65544267, 14.24703565, 17.68255621,\n",
              "       25.41500271, 30.63257332, 16.63584756, 26.77928463, 22.77059637,\n",
              "       32.3004945 ])"
            ]
          },
          "metadata": {
            "tags": []
          },
          "execution_count": 27
        }
      ]
    },
    {
      "cell_type": "code",
      "metadata": {
        "id": "sqWb1833NNWm"
      },
      "source": [
        "#TBD Mean squared error for your predictions"
      ],
      "execution_count": null,
      "outputs": []
    },
    {
      "cell_type": "markdown",
      "metadata": {
        "id": "hiJCmrRDNNWo"
      },
      "source": [
        "## Problems with linear model\n",
        "![title](https://github.com/hanchenyi/pml/blob/course_20201105/img/anscombe_quartet.png?raw=1)\n",
        "\n",
        "### Ansombe Quartet \n",
        "### y = x/2 + 3"
      ]
    }
  ]
}