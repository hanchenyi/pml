{
  "nbformat": 4,
  "nbformat_minor": 0,
  "metadata": {
    "kernelspec": {
      "display_name": "Python 3",
      "language": "python",
      "name": "python3"
    },
    "language_info": {
      "codemirror_mode": {
        "name": "ipython",
        "version": 3
      },
      "file_extension": ".py",
      "mimetype": "text/x-python",
      "name": "python",
      "nbconvert_exporter": "python",
      "pygments_lexer": "ipython3",
      "version": "3.6.5"
    },
    "colab": {
      "name": "004.ipynb",
      "provenance": []
    }
  },
  "cells": [
    {
      "cell_type": "markdown",
      "metadata": {
        "scrolled": true,
        "id": "lS353QMEJDoO"
      },
      "source": [
        "### Features and Target  are (should be) numbers"
      ]
    },
    {
      "cell_type": "markdown",
      "metadata": {
        "id": "iPB_GI0gJDoP"
      },
      "source": [
        "#### Text as Features"
      ]
    },
    {
      "cell_type": "code",
      "metadata": {
        "id": "gdLveUKiJDoQ"
      },
      "source": [
        "# Lets say your vocabulary consist of only 4 words\n",
        "# \"foo\", \"bar\", \"hello\", \"world\"\n",
        "\n",
        "# If we want to build a dataset of following 4 documents\n",
        "# to be passed to some ML algorithm\n",
        "\n",
        "doc1 = \"foo foo bar\"\n",
        "doc2 = \"foo\"\n",
        "doc3 = \"hello world\"\n",
        "doc4 = \"hello foo\"\n",
        "\n",
        "docs = [doc1, doc2, doc3, doc4]\n",
        "\n",
        "# TBD, convert docs to X, i.e a dataset of features which ML algorithm can understand"
      ],
      "execution_count": 2,
      "outputs": []
    },
    {
      "cell_type": "code",
      "metadata": {
        "id": "wOm93AhYJDoT",
        "outputId": "58cd0e63-53f6-470a-9eca-79eb76d7f052",
        "colab": {
          "base_uri": "https://localhost:8080/"
        }
      },
      "source": [
        "# TBD, convert docs to X, i.e a dataset of features which ML algorithm can understand\n",
        "# using CountVectorizer\n",
        "from sklearn.feature_extraction.text import CountVectorizer\n",
        "\n",
        "model = CountVectorizer(ngram_range=(1,1))\n",
        "X = model.fit_transform(docs).toarray()\n",
        "type(X)\n",
        "X"
      ],
      "execution_count": 4,
      "outputs": [
        {
          "output_type": "execute_result",
          "data": {
            "text/plain": [
              "array([[1, 2, 0, 0],\n",
              "       [0, 1, 0, 0],\n",
              "       [0, 0, 1, 1],\n",
              "       [0, 1, 1, 0]])"
            ]
          },
          "metadata": {
            "tags": []
          },
          "execution_count": 4
        }
      ]
    },
    {
      "cell_type": "markdown",
      "metadata": {
        "id": "qyVoe2xXJDoX"
      },
      "source": [
        "#### Image as Features"
      ]
    },
    {
      "cell_type": "code",
      "metadata": {
        "id": "R502-V9RJDoY",
        "outputId": "58d87111-6872-45ea-dbd8-d61a61400771",
        "colab": {
          "base_uri": "https://localhost:8080/"
        }
      },
      "source": [
        "from sklearn.datasets import load_digits\n",
        "digits_data = load_digits()\n",
        "dir(digits_data)"
      ],
      "execution_count": 5,
      "outputs": [
        {
          "output_type": "execute_result",
          "data": {
            "text/plain": [
              "['DESCR', 'data', 'images', 'target', 'target_names']"
            ]
          },
          "metadata": {
            "tags": []
          },
          "execution_count": 5
        }
      ]
    },
    {
      "cell_type": "code",
      "metadata": {
        "id": "CnnQVDKRJDoc",
        "outputId": "427359c6-2139-4e35-f93b-019ff98295cc",
        "colab": {
          "base_uri": "https://localhost:8080/",
          "height": 156
        }
      },
      "source": [
        "import matplotlib.pyplot as plt\n",
        "def show_image(image, label):\n",
        "    plt.figure(figsize=(3,2))\n",
        "    plt.axis('off')\n",
        "    plt.imshow(image, cmap='gray')\n",
        "    plt.title('Label: %i' % label)\n",
        "    plt.show()\n",
        "\n",
        "# TBD for image 12 show image and label, use function show_image\n",
        "image = digits_data['images'][12]\n",
        "label = digits_data['target'][12]\n",
        "show_image(image, label)\n"
      ],
      "execution_count": 8,
      "outputs": [
        {
          "output_type": "display_data",
          "data": {
            "image/png": "[encoded data removed]",
            "text/plain": [
              "<Figure size 216x144 with 1 Axes>"
            ]
          },
          "metadata": {
            "tags": [],
            "needs_background": "light"
          }
        }
      ]
    },
    {
      "cell_type": "markdown",
      "metadata": {
        "id": "J3jfs9q-JDoe"
      },
      "source": [
        "#### Image 12 all features\n",
        "$\n",
        "\\begin{align}\n",
        "X^{12} \n",
        "\\end{align}\n",
        "$\n"
      ]
    },
    {
      "cell_type": "code",
      "metadata": {
        "id": "q9AbppOGJDof",
        "outputId": "59c0b3ae-c7f0-4038-f8af-fe1676c88aef",
        "colab": {
          "base_uri": "https://localhost:8080/"
        }
      },
      "source": [
        "digits_data['data'][12]"
      ],
      "execution_count": 9,
      "outputs": [
        {
          "output_type": "execute_result",
          "data": {
            "text/plain": [
              "array([ 0.,  0.,  5., 12.,  1.,  0.,  0.,  0.,  0.,  0., 15., 14.,  7.,\n",
              "        0.,  0.,  0.,  0.,  0., 13.,  1., 12.,  0.,  0.,  0.,  0.,  2.,\n",
              "       10.,  0., 14.,  0.,  0.,  0.,  0.,  0.,  2.,  0., 16.,  1.,  0.,\n",
              "        0.,  0.,  0.,  0.,  6., 15.,  0.,  0.,  0.,  0.,  0.,  9., 16.,\n",
              "       15.,  9.,  8.,  2.,  0.,  0.,  3., 11.,  8., 13., 12.,  4.])"
            ]
          },
          "metadata": {
            "tags": []
          },
          "execution_count": 9
        }
      ]
    },
    {
      "cell_type": "markdown",
      "metadata": {
        "id": "yOEFbJC9JDoi"
      },
      "source": [
        "####  Image 12 intensity of pixel 20 \n",
        "$\n",
        "\\begin{align}\n",
        "X^{11}_{20} \n",
        "\\end{align}\n",
        "$"
      ]
    },
    {
      "cell_type": "code",
      "metadata": {
        "id": "dq5wp7XfJDoi",
        "outputId": "f4811189-55c5-4ffe-de79-02839141e069",
        "colab": {
          "base_uri": "https://localhost:8080/"
        }
      },
      "source": [
        "digits_data['data'][12][20]"
      ],
      "execution_count": 10,
      "outputs": [
        {
          "output_type": "execute_result",
          "data": {
            "text/plain": [
              "12.0"
            ]
          },
          "metadata": {
            "tags": []
          },
          "execution_count": 10
        }
      ]
    }
  ]
}