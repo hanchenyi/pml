{
  "nbformat": 4,
  "nbformat_minor": 0,
  "metadata": {
    "kernelspec": {
      "display_name": "Python 3",
      "language": "python",
      "name": "python3"
    },
    "language_info": {
      "codemirror_mode": {
        "name": "ipython",
        "version": 3
      },
      "file_extension": ".py",
      "mimetype": "text/x-python",
      "name": "python",
      "nbconvert_exporter": "python",
      "pygments_lexer": "ipython3",
      "version": "3.6.5"
    },
    "colab": {
      "name": "PreWork.ipynb",
      "provenance": []
    }
  },
  "cells": [
    {
      "cell_type": "markdown",
      "metadata": {
        "id": "gJub6oYYk_fT"
      },
      "source": [
        " ## Problem 0.1: Functions\n",
        " \n",
        "Implement a python function that takes an integer input and returns `True` if that number is divisible by 3 and 10 else returns `False`"
      ]
    },
    {
      "cell_type": "code",
      "metadata": {
        "id": "IGQ8HnVvk_fU",
        "outputId": "e5a4b737-28a1-4fc6-8b07-ec2e39f0925f",
        "colab": {
          "base_uri": "https://localhost:8080/",
          "height": 119
        }
      },
      "source": [
        "def div3and10(x):\n",
        "# Your code here\n",
        "    if (x%3==0) and (x%10==0):\n",
        "        return True\n",
        "    else:\n",
        "        return False\n",
        "\n",
        "\n",
        "print(div3and10(1) == False)\n",
        "print(div3and10(3) == False)\n",
        "print(div3and10(10) == False)\n",
        "print(div3and10(3*10) == True)\n",
        "print(div3and10(3*10*7) == True)\n",
        "print(div3and10(3*5*7) == False)"
      ],
      "execution_count": 8,
      "outputs": [
        {
          "output_type": "stream",
          "text": [
            "True\n",
            "True\n",
            "True\n",
            "True\n",
            "True\n",
            "True\n"
          ],
          "name": "stdout"
        }
      ]
    },
    {
      "cell_type": "markdown",
      "metadata": {
        "id": "46tVbMGuk_fY"
      },
      "source": [
        "## Problem 0.2: Reverse engineering functions\n",
        "Try to reverse engineer function `frev` which shows following behaviour. It takes 2 integer inputs `x1` and `x2` and returns a integer output `y`. Some of its inputs and outputs are listed below in the table  "
      ]
    },
    {
      "cell_type": "code",
      "metadata": {
        "id": "3Hrq7PB3k_fZ",
        "outputId": "cc25fc15-0998-4449-a30c-9f7b4f70fc42",
        "colab": {
          "base_uri": "https://localhost:8080/",
          "height": 68
        }
      },
      "source": [
        "  \n",
        "'''\n",
        "+--------------+\n",
        "| frev         |\n",
        "+--------------+\n",
        "| x1 | x2 | y  |\n",
        "+----+----+----+\n",
        "| 2  | 3  | 4  |\n",
        "+----+----+----+\n",
        "| 8  | 5  | 9  |\n",
        "+----+----+----+\n",
        "| 6  | 4  | 7  |\n",
        "+----+----+----+\n",
        "| 10 | 2  | 7  |\n",
        "+----+----+----+\n",
        "| 4  | 2  | 4  |\n",
        "+----+----+----+\n",
        "| 16 | 7  | 15 |\n",
        "+----+----+----+\n",
        "'''\n",
        "def frev(x1, x2):\n",
        "    # Your code here\n",
        "    if x1 > x2:\n",
        "        dividend = x1\n",
        "        divider = x2\n",
        "    else:\n",
        "        dividend = x2\n",
        "        divider = x1\n",
        "    \n",
        "    if dividend % divider == 0:\n",
        "        y = dividend // divider + divider\n",
        "    else:\n",
        "        y = dividend // divider + dividend\n",
        "    \n",
        "    if y >= 15:\n",
        "        return 15\n",
        "    else:\n",
        "        return y\n",
        "\n",
        "# Tests\n",
        "print(frev(16, 7) == 15)\n",
        "print(frev(4, 2) == 4)\n",
        "print(frev(10, 2) == 7)"
      ],
      "execution_count": 7,
      "outputs": [
        {
          "output_type": "stream",
          "text": [
            "True\n",
            "True\n",
            "True\n"
          ],
          "name": "stdout"
        }
      ]
    },
    {
      "cell_type": "markdown",
      "metadata": {
        "id": "TTR97Iv6k_fc"
      },
      "source": [
        "## Problem 0.3: Matrix Multiplication\n",
        "Implement the following python function `matrixMultiply` that multplies 2 matrices `x1` and `x2`\n",
        "if matrices can't be multiplied return `Cannot Multiply`. Feel free to use any numerical library if you like."
      ]
    },
    {
      "cell_type": "code",
      "metadata": {
        "id": "j-YZBTSrk_fd",
        "outputId": "f8a2ab9b-e5d9-4e72-9441-360d8b6a5c68",
        "colab": {
          "base_uri": "https://localhost:8080/",
          "height": 153
        }
      },
      "source": [
        "ERR = \"Cannot Multiply\"\n",
        "\n",
        "import numpy as np\n",
        "\n",
        "def matrixMultiply(x1, x2):\n",
        "    x1 = np.array(x1)\n",
        "    x2 = np.array(x2)\n",
        "\n",
        "    if x1.shape[-1] != x2.shape[0]:\n",
        "        return ERR\n",
        "    else:\n",
        "        return np.matmul(x1,x2)\n",
        "\n",
        "\n",
        "a = [[1,2], [2,2]] # A 2 X 2 matrix\n",
        "b = [[2,2], [3,2]] # A 2 X 2 matrix\n",
        "c = [[1,1,2]]  # A 1 X 3 matrix\n",
        "d = [[2],[3],[1]] # A 3 X 1 matrix\n",
        "\n",
        "\n",
        "print(matrixMultiply(a, a) == [[5,6], [6,8]])\n",
        "print(matrixMultiply(a, b) == [[8,6],[10,8]])\n",
        "print(matrixMultiply(c, d) == [[7]]) # A 1 X 1 matrix\n",
        "print(matrixMultiply(c, c) == ERR)\n",
        "print(matrixMultiply(d, d) == ERR)\n",
        "print(matrixMultiply(b, c) == ERR)\n"
      ],
      "execution_count": 6,
      "outputs": [
        {
          "output_type": "stream",
          "text": [
            "[[ True  True]\n",
            " [ True  True]]\n",
            "[[ True  True]\n",
            " [ True  True]]\n",
            "[[ True]]\n",
            "True\n",
            "True\n",
            "True\n"
          ],
          "name": "stdout"
        }
      ]
    },
    {
      "cell_type": "code",
      "metadata": {
        "id": "b9QIcTllk_fh"
      },
      "source": [
        ""
      ],
      "execution_count": null,
      "outputs": []
    }
  ]
}